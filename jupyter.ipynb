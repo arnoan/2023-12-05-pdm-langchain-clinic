{
 "cells": [
  {
   "cell_type": "markdown",
   "source": [
    "### Required Bootstrapping: Setup of Credentials\n",
    "Make sure to populate the `.env` file with your OpenAI API key.  \n",
    "See `.env.template` for an example.  "
   ],
   "metadata": {
    "collapsed": false
   },
   "id": "c607da5e867bdf1d"
  },
  {
   "cell_type": "code",
   "execution_count": null,
   "outputs": [],
   "source": [
    "import dotenv"
   ],
   "metadata": {
    "collapsed": false
   },
   "id": "3104639d9c3efc42"
  },
  {
   "cell_type": "code",
   "execution_count": null,
   "outputs": [],
   "source": [
    "dotenv.load_dotenv()"
   ],
   "metadata": {
    "collapsed": false
   },
   "id": "26648b36dc91739a"
  },
  {
   "cell_type": "code",
   "execution_count": null,
   "outputs": [],
   "source": [
    "import os"
   ],
   "metadata": {
    "collapsed": false
   },
   "id": "7cd250462ca727cf"
  },
  {
   "cell_type": "code",
   "execution_count": null,
   "outputs": [],
   "source": [
    "OPENAI_API_KEY = os.getenv(\"OPENAI_API_KEY\")"
   ],
   "metadata": {
    "collapsed": false
   },
   "id": "d876d574387ddc23"
  },
  {
   "cell_type": "markdown",
   "source": [
    "What do we need to build the most simple LLM system possible?\n",
    "\n",
    "- a model\n",
    "- a question / a prompt"
   ],
   "metadata": {
    "collapsed": false
   },
   "id": "bc58a53496d93732"
  },
  {
   "cell_type": "code",
   "execution_count": null,
   "outputs": [],
   "source": [
    "from langchain.chat_models import ChatOpenAI\n",
    "# from langchain.llms import OpenAI\n",
    "from langchain.prompts import ChatPromptTemplate\n",
    "\n",
    "from langchain.schema.output_parser import StrOutputParser"
   ],
   "metadata": {
    "collapsed": false
   },
   "id": "9b846ccac27acc1"
  },
  {
   "cell_type": "code",
   "execution_count": null,
   "outputs": [],
   "source": [
    "model = ChatOpenAI(\n",
    "  model=\"gpt-4\",\n",
    "  openai_api_key=OPENAI_API_KEY)\n",
    "\n",
    "prompt = ChatPromptTemplate.from_template(\"Tell me a joke about {topic}\")\n",
    "\n",
    "output_parser = StrOutputParser()"
   ],
   "metadata": {
    "collapsed": false
   },
   "id": "194f2c17dcb22e98"
  },
  {
   "cell_type": "code",
   "execution_count": null,
   "outputs": [],
   "source": [
    "chain = prompt | model | output_parser"
   ],
   "metadata": {
    "collapsed": false
   },
   "id": "b22284ebb275f3b5"
  },
  {
   "cell_type": "code",
   "execution_count": null,
   "outputs": [],
   "source": [
    "prompt"
   ],
   "metadata": {
    "collapsed": false
   },
   "id": "1b07ad27623ae810"
  },
  {
   "cell_type": "code",
   "execution_count": null,
   "outputs": [],
   "source": [
    "prompt.invoke({\"topic\": \"cats\"})"
   ],
   "metadata": {
    "collapsed": false
   },
   "id": "8a1ae80e2b62dec0"
  },
  {
   "cell_type": "code",
   "execution_count": null,
   "outputs": [],
   "source": [
    "chain.invoke({\"topic\": \"cats\"})"
   ],
   "metadata": {
    "collapsed": false
   },
   "id": "bd782c71331ab8a4"
  },
  {
   "cell_type": "markdown",
   "source": [
    "## Input & Output Schema"
   ],
   "metadata": {
    "collapsed": false
   },
   "id": "246c09ff35b29acc"
  },
  {
   "cell_type": "code",
   "execution_count": null,
   "outputs": [],
   "source": [
    "chain.input_schema.schema_json()"
   ],
   "metadata": {
    "collapsed": false
   },
   "id": "f4ffce5318a5a4cd"
  },
  {
   "cell_type": "code",
   "execution_count": null,
   "outputs": [],
   "source": [
    "chain.output_schema.schema_json()"
   ],
   "metadata": {
    "collapsed": false
   },
   "id": "71ef618aa52da530"
  },
  {
   "cell_type": "code",
   "execution_count": null,
   "outputs": [],
   "source": [
    "from pprint import pprint"
   ],
   "metadata": {
    "collapsed": false
   },
   "id": "fc308cde86a83e25"
  },
  {
   "cell_type": "code",
   "execution_count": null,
   "outputs": [],
   "source": [
    "pprint((prompt | model).output_schema.schema_json())"
   ],
   "metadata": {
    "collapsed": false
   },
   "id": "291726dc9881607b"
  },
  {
   "cell_type": "code",
   "execution_count": null,
   "outputs": [],
   "source": [],
   "metadata": {
    "collapsed": false
   },
   "id": "2d235041bd80dca8"
  }
 ],
 "metadata": {
  "kernelspec": {
   "display_name": "Python 3",
   "language": "python",
   "name": "python3"
  },
  "language_info": {
   "codemirror_mode": {
    "name": "ipython",
    "version": 2
   },
   "file_extension": ".py",
   "mimetype": "text/x-python",
   "name": "python",
   "nbconvert_exporter": "python",
   "pygments_lexer": "ipython2",
   "version": "2.7.6"
  }
 },
 "nbformat": 4,
 "nbformat_minor": 5
}
